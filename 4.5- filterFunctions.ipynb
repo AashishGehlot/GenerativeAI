{
 "cells": [
  {
   "cell_type": "markdown",
   "metadata": {},
   "source": [
    "The filter() Function-\n",
    "The filter Functions in Python contruct iterator from elements from iterable from which the functions returns the true.it is used to filter out the items from the list."
   ]
  },
  {
   "cell_type": "code",
   "execution_count": 5,
   "metadata": {},
   "outputs": [],
   "source": [
    "def even(num):\n",
    "    if num%2==0:\n",
    "        return True\n",
    "    else:\n",
    "        return False"
   ]
  },
  {
   "cell_type": "code",
   "execution_count": 6,
   "metadata": {},
   "outputs": [
    {
     "data": {
      "text/plain": [
       "True"
      ]
     },
     "execution_count": 6,
     "metadata": {},
     "output_type": "execute_result"
    }
   ],
   "source": [
    "even(30)"
   ]
  },
  {
   "cell_type": "code",
   "execution_count": 7,
   "metadata": {},
   "outputs": [
    {
     "data": {
      "text/plain": [
       "False"
      ]
     },
     "execution_count": 7,
     "metadata": {},
     "output_type": "execute_result"
    }
   ],
   "source": [
    "even(21)"
   ]
  },
  {
   "cell_type": "code",
   "execution_count": 9,
   "metadata": {},
   "outputs": [
    {
     "data": {
      "text/plain": [
       "[2, 4, 6, 8, 10]"
      ]
     },
     "execution_count": 9,
     "metadata": {},
     "output_type": "execute_result"
    }
   ],
   "source": [
    "Ist= [1, 2, 3, 4, 5, 6, 7, 8, 9, 10]\n",
    "\n",
    "list(filter(even, Ist))\n",
    "\n"
   ]
  },
  {
   "cell_type": "code",
   "execution_count": 11,
   "metadata": {},
   "outputs": [
    {
     "name": "stdout",
     "output_type": "stream",
     "text": [
      "[6, 7, 8, 9, 10]\n"
     ]
    }
   ],
   "source": [
    "#Filter with lambda functions\n",
    "numbers= [1, 2, 3, 4, 5, 6, 7, 8, 9, 10]\n",
    "\n",
    "greater_than_five = list(filter(lambda x:x>5, numbers))\n",
    "print(greater_than_five)\n"
   ]
  },
  {
   "cell_type": "code",
   "execution_count": 17,
   "metadata": {},
   "outputs": [
    {
     "name": "stdout",
     "output_type": "stream",
     "text": [
      "[6, 8, 10]\n"
     ]
    }
   ],
   "source": [
    "##Filter with lambda functions with multiple conditions\n",
    "numbers= [1, 2, 3, 4, 5, 6, 7, 8, 9, 10]\n",
    "\n",
    "even_greater_than_five = list(filter(lambda x:x%2==0 and x>5, numbers))\n",
    "print(even_greater_than_five)"
   ]
  },
  {
   "cell_type": "code",
   "execution_count": 20,
   "metadata": {},
   "outputs": [
    {
     "data": {
      "text/plain": [
       "[{'name': 'krish', 'age': 32},\n",
       " {'name': 'Nayak', 'age': 35},\n",
       " {'name': 'Aashish', 'age': 34}]"
      ]
     },
     "execution_count": 20,
     "metadata": {},
     "output_type": "execute_result"
    }
   ],
   "source": [
    "##Apply filter to check if age is >25 in dictionaries\n",
    "person= [\n",
    "    {\"name\":\"krish\", \"age\":32 },\n",
    "    {\"name\":\"Nayak\", \"age\":35 },\n",
    "    {\"name\": \"Aashish\", \"age\": 34}   \n",
    "]\n",
    "\n",
    "def age_greater_than_25(person):\n",
    "    return person[\"age\"]>25\n",
    "\n",
    "list(filter(age_greater_than_25, person))"
   ]
  },
  {
   "cell_type": "code",
   "execution_count": null,
   "metadata": {},
   "outputs": [],
   "source": []
  }
 ],
 "metadata": {
  "kernelspec": {
   "display_name": "Python 3",
   "language": "python",
   "name": "python3"
  },
  "language_info": {
   "codemirror_mode": {
    "name": "ipython",
    "version": 3
   },
   "file_extension": ".py",
   "mimetype": "text/x-python",
   "name": "python",
   "nbconvert_exporter": "python",
   "pygments_lexer": "ipython3",
   "version": "3.12.0"
  }
 },
 "nbformat": 4,
 "nbformat_minor": 2
}
