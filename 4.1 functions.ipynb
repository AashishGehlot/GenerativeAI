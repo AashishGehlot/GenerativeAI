{
 "cells": [
  {
   "cell_type": "markdown",
   "metadata": {},
   "source": [
    "Introductions to Functions-\n",
    "Function is block of code that perform the specific task. Functions helps in organizing the code, reusing the code and readability of the code."
   ]
  },
  {
   "cell_type": "code",
   "execution_count": 1,
   "metadata": {},
   "outputs": [],
   "source": [
    "\n",
    "def even_or_odd(num):\n",
    "    \"\"\"this functions perform even or odd number\"\"\"\n",
    "    if num%2==0:\n",
    "        print(\"number is even\")\n",
    "    else:\n",
    "        print(\"number is odd\")"
   ]
  },
  {
   "cell_type": "code",
   "execution_count": 8,
   "metadata": {},
   "outputs": [
    {
     "name": "stdout",
     "output_type": "stream",
     "text": [
      "number is odd\n",
      "number is even\n"
     ]
    }
   ],
   "source": [
    "##call the functions\n",
    "even_or_odd(9)\n",
    "even_or_odd(10)"
   ]
  },
  {
   "cell_type": "code",
   "execution_count": 9,
   "metadata": {},
   "outputs": [
    {
     "name": "stdout",
     "output_type": "stream",
     "text": [
      "50\n"
     ]
    }
   ],
   "source": [
    "##Multiple parameter functions\n",
    "\n",
    "def add(a, b):\n",
    "    return a+b\n",
    "\n",
    "result = add(30, 20)\n",
    "print(result)\n",
    "\n"
   ]
  },
  {
   "cell_type": "code",
   "execution_count": 11,
   "metadata": {},
   "outputs": [],
   "source": [
    "def greet(name):\n",
    "    print(f\"Hello {name}, welcome to the Barwani, Hope you enjoy your stay with us\")\n",
    "    "
   ]
  },
  {
   "cell_type": "code",
   "execution_count": 12,
   "metadata": {},
   "outputs": [
    {
     "name": "stdout",
     "output_type": "stream",
     "text": [
      "Hello Aashish, welcome to the Barwani, Hope you enjoy your stay with us\n"
     ]
    }
   ],
   "source": [
    "greet(\"Aashish\")"
   ]
  },
  {
   "cell_type": "code",
   "execution_count": 15,
   "metadata": {},
   "outputs": [
    {
     "name": "stdout",
     "output_type": "stream",
     "text": [
      "Hello guest, welcome to the Barwani, Hope you enjoy your stay with us\n",
      "Hello aashu, welcome to the Barwani, Hope you enjoy your stay with us\n"
     ]
    }
   ],
   "source": [
    "##in case if i want to give a default parameter\n",
    "def greet(name= \"guest\"):\n",
    "    print(f\"Hello {name}, welcome to the Barwani, Hope you enjoy your stay with us\")\n",
    "\n",
    "\n",
    "greet()\n",
    "greet(\"aashu\")"
   ]
  },
  {
   "cell_type": "code",
   "execution_count": 20,
   "metadata": {},
   "outputs": [
    {
     "name": "stdout",
     "output_type": "stream",
     "text": [
      "1\n",
      "2\n",
      "3\n",
      "4\n",
      "5\n",
      "5\n",
      "6\n",
      "Ashish\n",
      "Aashish\n",
      "33\n",
      "Village Balkuwan\n",
      "BE\n",
      "Head of Talent Acquisition\n"
     ]
    }
   ],
   "source": [
    "#Variable lenght arguments\n",
    "#position and keywords arguments\n",
    "\n",
    "def print_number(*args): ##Positional arguments\n",
    "    for numbers in args:\n",
    "        print(numbers)\n",
    "\n",
    "\n",
    "\n",
    "print_number(1, 2, 3, 4, 5, 5, 6, \"Ashish\")\n",
    "print_number(\"Aashish\", 33, \"Village Balkuwan\", \"BE\", \"Head of Talent Acquisition\")\n",
    "    "
   ]
  },
  {
   "cell_type": "code",
   "execution_count": 21,
   "metadata": {},
   "outputs": [],
   "source": [
    "#keywords arguments all the parameter will be in key value format\n",
    "def print_details(**kwargs):\n",
    "    for key, value in kwargs.items():\n",
    "        print(f\"{key}:{value}\")\n"
   ]
  },
  {
   "cell_type": "code",
   "execution_count": 23,
   "metadata": {},
   "outputs": [
    {
     "name": "stdout",
     "output_type": "stream",
     "text": [
      "name:krish\n",
      "age:33\n",
      "country:india\n"
     ]
    }
   ],
   "source": [
    "print_details(name=\"krish\", age=33, country=\"india\")"
   ]
  },
  {
   "cell_type": "code",
   "execution_count": 34,
   "metadata": {},
   "outputs": [],
   "source": [
    "def print_detail(*args, **kwargs):\n",
    "    for val in args:\n",
    "        print(f\"positional arguments:{val}\")\n",
    "    \n",
    "    for key, value in kwargs.items():\n",
    "        print(f\"{key}:{value}\")"
   ]
  },
  {
   "cell_type": "code",
   "execution_count": 37,
   "metadata": {},
   "outputs": [
    {
     "name": "stdout",
     "output_type": "stream",
     "text": [
      "positional arguments:1\n",
      "positional arguments:2\n",
      "positional arguments:3\n",
      "positional arguments:5\n",
      "positional arguments:6\n",
      "positional arguments:7\n",
      "positional arguments:8\n",
      "name:krish\n",
      "age:33\n",
      "country:india\n"
     ]
    }
   ],
   "source": [
    "print_detail(1, 2, 3,5, 6, 7,8, name=\"krish\", age=33, country=\"india\")\n"
   ]
  },
  {
   "cell_type": "code",
   "execution_count": 39,
   "metadata": {},
   "outputs": [],
   "source": [
    "###Return mutiple parameter Statement\n",
    "def mutiply(a, b):\n",
    "    return (a*b)\n",
    "\n",
    "\n"
   ]
  },
  {
   "cell_type": "code",
   "execution_count": 41,
   "metadata": {},
   "outputs": [
    {
     "data": {
      "text/plain": [
       "10"
      ]
     },
     "execution_count": 41,
     "metadata": {},
     "output_type": "execute_result"
    }
   ],
   "source": [
    "mutiply(2, 5)"
   ]
  },
  {
   "cell_type": "code",
   "execution_count": null,
   "metadata": {},
   "outputs": [],
   "source": []
  }
 ],
 "metadata": {
  "kernelspec": {
   "display_name": "Python 3",
   "language": "python",
   "name": "python3"
  },
  "language_info": {
   "codemirror_mode": {
    "name": "ipython",
    "version": 3
   },
   "file_extension": ".py",
   "mimetype": "text/x-python",
   "name": "python",
   "nbconvert_exporter": "python",
   "pygments_lexer": "ipython3",
   "version": "3.12.0"
  }
 },
 "nbformat": 4,
 "nbformat_minor": 2
}
