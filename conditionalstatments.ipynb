{
 "cells": [
  {
   "cell_type": "code",
   "execution_count": 3,
   "metadata": {},
   "outputs": [
    {
     "name": "stdout",
     "output_type": "stream",
     "text": [
      "you can drive the car..!!\n"
     ]
    }
   ],
   "source": [
    "## if else Statement\n",
    "a = 25\n",
    "if a>=18:\n",
    "    print(\"you can drive the car..!!\")\n",
    "else:\n",
    "    print(\"you can not drive the car!! you are not >=18\")\n",
    "##else condition will execute in case if condition is false.\n"
   ]
  },
  {
   "cell_type": "code",
   "execution_count": 6,
   "metadata": {},
   "outputs": [
    {
     "name": "stdout",
     "output_type": "stream",
     "text": [
      "you are adult\n"
     ]
    }
   ],
   "source": [
    "##elif- allows you to check for multiple conditions.\n",
    "\n",
    "age= 19\n",
    "\n",
    "if age<13:\n",
    "    print(\"you are a child\")\n",
    "elif age<18:\n",
    "    print(\"you are teenager\")\n",
    "else:\n",
    "    print(\"you are adult\")\n",
    "    "
   ]
  },
  {
   "cell_type": "code",
   "execution_count": 9,
   "metadata": {},
   "outputs": [
    {
     "name": "stdout",
     "output_type": "stream",
     "text": [
      "number is negative or zero\n"
     ]
    }
   ],
   "source": [
    "##Nested conditional statements.\n",
    "## you can put if, elif, else conditions in another if, elif, else conditions.\n",
    "\n",
    "num = int(input(\"enter the number\"))\n",
    "\n",
    "if num>=0:\n",
    "    print(\"num is positive\")\n",
    "    if num%2==0:\n",
    "        print(\"number is even\")\n",
    "    else: \n",
    "        print(\"number is odd\")\n",
    "\n",
    "else:\n",
    "    print(\"number is negative or zero\")\n",
    "\n"
   ]
  },
  {
   "cell_type": "code",
   "execution_count": 10,
   "metadata": {},
   "outputs": [
    {
     "name": "stdout",
     "output_type": "stream",
     "text": [
      "2024 is a leap year\n"
     ]
    }
   ],
   "source": [
    "##use cases- practical examples\n",
    "\n",
    "##Determine if any year a leap year.\n",
    "\n",
    "year = int(input(\"enter the year\"))\n",
    "\n",
    "if year%4==0:\n",
    "    if year%100==0:\n",
    "        if year%400==0:\n",
    "            print(year, \"is a leap year\")\n",
    "        else:\n",
    "            print(year, \"is not a leap year\")\n",
    "    else:\n",
    "        print(year, \"is a leap year\")\n",
    "        \n",
    "else:\n",
    "    print(year, \"is not a leap year\")"
   ]
  },
  {
   "cell_type": "code",
   "execution_count": null,
   "metadata": {},
   "outputs": [],
   "source": [
    "##Assignment- Create a calculator.\n",
    "## Create a applications for Ticket pricing\n"
   ]
  }
 ],
 "metadata": {
  "kernelspec": {
   "display_name": "Python 3",
   "language": "python",
   "name": "python3"
  },
  "language_info": {
   "codemirror_mode": {
    "name": "ipython",
    "version": 3
   },
   "file_extension": ".py",
   "mimetype": "text/x-python",
   "name": "python",
   "nbconvert_exporter": "python",
   "pygments_lexer": "ipython3",
   "version": "3.12.0"
  }
 },
 "nbformat": 4,
 "nbformat_minor": 2
}
