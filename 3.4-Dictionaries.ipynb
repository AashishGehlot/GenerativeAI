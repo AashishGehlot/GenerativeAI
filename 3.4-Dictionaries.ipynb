{
 "cells": [
  {
   "cell_type": "code",
   "execution_count": null,
   "metadata": {},
   "outputs": [],
   "source": [
    "##Introductions to Disctionaries-\n",
    "Dictionaries are unordered collections of the items, they are stored in key-values pairs, Keys are immutable(e.g String, numbers, or tuples) while values can be changes"
   ]
  },
  {
   "cell_type": "code",
   "execution_count": 2,
   "metadata": {},
   "outputs": [
    {
     "name": "stdout",
     "output_type": "stream",
     "text": [
      "{}\n",
      "<class 'dict'>\n"
     ]
    }
   ],
   "source": [
    "#Creating Dictionaries\n",
    "empty_Dic = {}\n",
    "print(empty_Dic)\n",
    "print(type(empty_Dic))"
   ]
  },
  {
   "cell_type": "code",
   "execution_count": 10,
   "metadata": {},
   "outputs": [
    {
     "name": "stdout",
     "output_type": "stream",
     "text": [
      "{'Name': 'krish', 'age': 33, 'grades': 24}\n"
     ]
    }
   ],
   "source": [
    "student = {\"Name\": \"krish\", \"age\":33 , \"grades\":24}\n",
    "\n",
    "\n",
    "print(student)"
   ]
  },
  {
   "cell_type": "code",
   "execution_count": 17,
   "metadata": {},
   "outputs": [
    {
     "name": "stdout",
     "output_type": "stream",
     "text": [
      "krish\n",
      "33\n",
      "24\n",
      "None\n",
      "None\n",
      "not available\n"
     ]
    }
   ],
   "source": [
    "#Accessing Dictionaries\n",
    "print(student[\"Name\"])\n",
    "print(student[\"age\"])\n",
    "\n",
    "##Accessing using get()\n",
    "print(student.get(\"grades\"))\n",
    "print(student.get(\"name\"))\n",
    "print(student.get(\"last_name\"))\n",
    "print(student.get(\"last_name\", \"not available\"))"
   ]
  },
  {
   "cell_type": "code",
   "execution_count": 18,
   "metadata": {},
   "outputs": [
    {
     "data": {
      "text/plain": [
       "{'Name': 'krish', 'age': 33, 'grades': 24}"
      ]
     },
     "execution_count": 18,
     "metadata": {},
     "output_type": "execute_result"
    }
   ],
   "source": [
    "##Modifying Dictionaries\n",
    "#Dictionaries are mutable, you can add, delete, update the elements\n",
    "\n",
    "student\n",
    "\n"
   ]
  },
  {
   "cell_type": "code",
   "execution_count": 19,
   "metadata": {},
   "outputs": [
    {
     "name": "stdout",
     "output_type": "stream",
     "text": [
      "{'Name': 'krish', 'age': 33, 'grades': 24, 'address': 'India'}\n"
     ]
    }
   ],
   "source": [
    "student[\"age\"]= 33 #updated the value for the key\n",
    "student[\"address\"] = \"India\" ##Added a new key and value\n",
    "\n",
    "print(student)\n",
    "        "
   ]
  },
  {
   "cell_type": "code",
   "execution_count": 20,
   "metadata": {},
   "outputs": [],
   "source": [
    "##Deleting the key\n",
    "\n",
    "del student[\"grades\"] ##Deleting the key and values.        "
   ]
  },
  {
   "cell_type": "code",
   "execution_count": 21,
   "metadata": {},
   "outputs": [
    {
     "name": "stdout",
     "output_type": "stream",
     "text": [
      "{'Name': 'krish', 'age': 33, 'address': 'India'}\n"
     ]
    }
   ],
   "source": [
    "print(student)"
   ]
  },
  {
   "cell_type": "code",
   "execution_count": 30,
   "metadata": {},
   "outputs": [
    {
     "name": "stdout",
     "output_type": "stream",
     "text": [
      "dict_keys(['Name', 'age', 'address'])\n",
      "dict_values(['krish', 33, 'India'])\n",
      "dict_items([('Name', 'krish'), ('age', 33), ('address', 'India')])\n"
     ]
    }
   ],
   "source": [
    "##Dictionaries methods\n",
    "\n",
    "keys= student.keys() ##Accesing all the keys\n",
    "\n",
    "print(keys)\n",
    "\n",
    "values = student.values() ##Accessing values in the key\n",
    "\n",
    "print(values)\n",
    "\n",
    "#\n",
    "item = student.items()\n",
    "print(item)\n",
    "\n"
   ]
  },
  {
   "cell_type": "code",
   "execution_count": 31,
   "metadata": {},
   "outputs": [
    {
     "name": "stdout",
     "output_type": "stream",
     "text": [
      "{'Name': 'krish', 'age': 33, 'address': 'India'}\n",
      "{'Name': 'krish', 'age': 33, 'address': 'India'}\n"
     ]
    }
   ],
   "source": [
    "##Shallow copy\n",
    "\n",
    "student_copy= student\n",
    "\n",
    "print(student)\n",
    "print(student_copy)\n"
   ]
  },
  {
   "cell_type": "code",
   "execution_count": 32,
   "metadata": {},
   "outputs": [
    {
     "name": "stdout",
     "output_type": "stream",
     "text": [
      "{'Name': 'Aashish', 'age': 33, 'address': 'India'}\n",
      "{'Name': 'Aashish', 'age': 33, 'address': 'India'}\n"
     ]
    }
   ],
   "source": [
    "student[\"Name\"] = \"Aashish\"\n",
    "\n",
    "print(student)\n",
    "print(student_copy)"
   ]
  },
  {
   "cell_type": "code",
   "execution_count": 36,
   "metadata": {},
   "outputs": [],
   "source": [
    "student_copy1= student.copy() ##Responsible for shallow copy\n"
   ]
  },
  {
   "cell_type": "code",
   "execution_count": 38,
   "metadata": {},
   "outputs": [
    {
     "name": "stdout",
     "output_type": "stream",
     "text": [
      "{'Name': 'Atharv', 'age': 33, 'address': 'India'}\n",
      "{'Name': 'Deepika', 'age': 33, 'address': 'India'}\n"
     ]
    }
   ],
   "source": [
    "student[\"Name\"] = \"Atharv\"\n",
    "print(student)\n",
    "print(student_copy1)"
   ]
  },
  {
   "cell_type": "code",
   "execution_count": 48,
   "metadata": {},
   "outputs": [
    {
     "name": "stdout",
     "output_type": "stream",
     "text": [
      "Name\n",
      "age\n",
      "address\n",
      "Atharv\n",
      "33\n",
      "India\n"
     ]
    }
   ],
   "source": [
    "##iterating over dictionaries\n",
    "##You can use loops to iterate over dictionaries, keys, values, or items\n",
    "\n",
    "#Iterating over keys\n",
    "for keys in student.keys():\n",
    "    print(keys)\n",
    "  \n",
    "#Iterating over values  \n",
    "for values in student.values():\n",
    "    print(values)\n"
   ]
  },
  {
   "cell_type": "code",
   "execution_count": 51,
   "metadata": {},
   "outputs": [
    {
     "name": "stdout",
     "output_type": "stream",
     "text": [
      "Name: Atharv\n",
      "age: 33\n",
      "address: India\n"
     ]
    }
   ],
   "source": [
    "##Iterating over key values paris\n",
    "\n",
    "for keys, values in student.items():\n",
    "    print(f\"{keys}: {values}\")\n",
    "    \n",
    "\n"
   ]
  },
  {
   "cell_type": "code",
   "execution_count": 57,
   "metadata": {},
   "outputs": [
    {
     "name": "stdout",
     "output_type": "stream",
     "text": [
      "33\n",
      "Atharv\n"
     ]
    }
   ],
   "source": [
    "##Nested Dictionaries\n",
    "students= {\n",
    "    \"student1\" : {\"name\": \"krish\", \"age\":33},\n",
    "    \"student2\": {\"name\": \"Atharv\", \"age\": 7}\n",
    "    } \n",
    "\n",
    "##Access nested dictionaries\n",
    "print(students[\"student1\"][\"age\"])\n",
    "print(students[\"student2\"][\"name\"])\n",
    "\n"
   ]
  },
  {
   "cell_type": "code",
   "execution_count": 62,
   "metadata": {},
   "outputs": [
    {
     "name": "stdout",
     "output_type": "stream",
     "text": [
      "student1: {'name': 'krish', 'age': 33}\n",
      "name:krish\n",
      "age:33\n",
      "student2: {'name': 'Atharv', 'age': 7}\n",
      "name:Atharv\n",
      "age:7\n"
     ]
    }
   ],
   "source": [
    "#Iterating nested dictionaries\n",
    "for student_id, student_info in students.items():\n",
    "    print(f\"{student_id}: {student_info}\")\n",
    "    for key, value in student_info.items():\n",
    "        print(f\"{key}:{value}\")\n",
    "        "
   ]
  },
  {
   "cell_type": "code",
   "execution_count": 65,
   "metadata": {},
   "outputs": [
    {
     "name": "stdout",
     "output_type": "stream",
     "text": [
      "{0: 0, 1: 1, 2: 4, 3: 9, 4: 16, 5: 25, 6: 36, 7: 49, 8: 64, 9: 81}\n"
     ]
    }
   ],
   "source": [
    "##Dictionaries Comprehensions\n",
    "square = {x:x**2 for x in range(10)}\n",
    "print(square)\n",
    "\n",
    "\n"
   ]
  },
  {
   "cell_type": "code",
   "execution_count": 68,
   "metadata": {},
   "outputs": [
    {
     "name": "stdout",
     "output_type": "stream",
     "text": [
      "{0: 0, 2: 4, 4: 16, 6: 36, 8: 64}\n"
     ]
    }
   ],
   "source": [
    "##Conditional Dictionaries Comprehensions\n",
    "evens = {x:x**2 for x in range(10) if x%2==0}\n",
    "print(evens)"
   ]
  },
  {
   "cell_type": "code",
   "execution_count": 70,
   "metadata": {},
   "outputs": [
    {
     "name": "stdout",
     "output_type": "stream",
     "text": [
      "{'a': 1, 'b': 2, 'c': 3, 'd': 4}\n"
     ]
    }
   ],
   "source": [
    "##Practical Examples\n",
    "\n",
    "##Use a dictionaries to count the frequency of the elements\n",
    "\n",
    "#Dictionaries merge\n",
    "\n",
    "dict1 = {\"a\":1, \"b\":2 }\n",
    "dict2= {\"c\":3, \"d\":4}\n",
    "\n",
    "merge_dict = {**dict1, **dict2}\n",
    "print(merge_dict)"
   ]
  },
  {
   "cell_type": "code",
   "execution_count": null,
   "metadata": {},
   "outputs": [],
   "source": []
  }
 ],
 "metadata": {
  "kernelspec": {
   "display_name": "Python 3",
   "language": "python",
   "name": "python3"
  },
  "language_info": {
   "codemirror_mode": {
    "name": "ipython",
    "version": 3
   },
   "file_extension": ".py",
   "mimetype": "text/x-python",
   "name": "python",
   "nbconvert_exporter": "python",
   "pygments_lexer": "ipython3",
   "version": "3.12.0"
  }
 },
 "nbformat": 4,
 "nbformat_minor": 2
}
